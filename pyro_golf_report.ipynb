{
 "cells": [
  {
   "cell_type": "markdown",
   "metadata": {},
   "source": [
    "# Implementing Golf Putting Models in Pyro"
   ]
  },
  {
   "cell_type": "markdown",
   "metadata": {},
   "source": [
    "There has been a lot of interest in recent years in probabilistic programming languages (PPLs), which essentially enable one to create bespoke Bayesian generative models to solve all kinds of interesting statistical problems. A newer addition to the PPL space is [Uber's Pyro](http://pyro.ai/), which is a Python library built on top of [(Facebook's) PyTorch](https://ai.facebook.com/tools/pytorch/). The website spells out its selling points quite well:"
   ]
  },
  {
   "cell_type": "markdown",
   "metadata": {},
   "source": [
    ">Pyro is a universal probabilistic programming language (PPL) written in Python and supported by PyTorch on the backend. Pyro enables flexible and expressive deep probabilistic modeling, unifying the best of modern deep learning and Bayesian modeling. It was designed with these key principles:\n",
    "\n",
    "- Universal: Pyro can represent any computable probability distribution.\n",
    "- Scalable: Pyro scales to large data sets with little overhead.\n",
    "- Minimal: Pyro is implemented with a small core of powerful, composable abstractions.\n",
    "- Flexible: Pyro aims for automation when you want it, control when you need it."
   ]
  },
  {
   "cell_type": "markdown",
   "metadata": {},
   "source": [
    "Check out the [Uber Engineering blog post announcement](https://eng.uber.com/pyro/) for a better overview and some more technical details."
   ]
  },
  {
   "cell_type": "markdown",
   "metadata": {},
   "source": [
    "On my journey towards Pyro proficiency, I thought it would be a good idea to translate some models from other PPLs to Pyro. So in this post I'm going to discuss the fun problem of modeling the efficiency of professional golf putting. I discovered this problem while watching a YouTube video, and went back and read the implementation of the model in both [Stan](https://mc-stan.org/users/documentation/case-studies/golf.html) and [PyMC](https://docs.pymc.io/notebooks/putting_workflow.html). What's interesting about these golf models is that they show how one can improve from a simple logistic regression by adding actual physical considerations of the problem at hand. This, after all, is the raison d'etre for PPLs. Anyway, if you're interested, I highly recommend reading one (or both) of the previous implementations for more technical explanation of the underlying physics. "
   ]
  },
  {
   "cell_type": "markdown",
   "metadata": {},
   "source": [
    "Now let's walk through some Pyro code! First we'll do some imports."
   ]
  },
  {
   "cell_type": "code",
   "execution_count": 2,
   "metadata": {},
   "outputs": [
    {
     "name": "stderr",
     "output_type": "stream",
     "text": [
      "/home/evan/anaconda3/lib/python3.7/importlib/_bootstrap.py:219: RuntimeWarning: numpy.ufunc size changed, may indicate binary incompatibility. Expected 192 from C header, got 216 from PyObject\n",
      "  return f(*args, **kwds)\n"
     ]
    }
   ],
   "source": [
    "import io\n",
    "\n",
    "import torch\n",
    "import pyro\n",
    "import pyro.distributions as dist\n",
    "from pyro.infer.autoguide import AutoDiagonalNormal\n",
    "from pyro.infer import SVI, Trace_ELBO, Predictive\n",
    "import pandas as pd\n",
    "import numpy as np\n",
    "import matplotlib.pyplot as plt\n",
    "import seaborn as sns\n",
    "from scipy.stats import norm\n",
    "\n",
    "%matplotlib inline\n",
    "sns.set_style(\"darkgrid\")"
   ]
  },
  {
   "cell_type": "markdown",
   "metadata": {},
   "source": [
    "Next we'll define the putting dataset which can be found in those previous blog posts. "
   ]
  },
  {
   "cell_type": "code",
   "execution_count": 8,
   "metadata": {},
   "outputs": [
    {
     "data": {
      "text/html": [
       "<div>\n",
       "<style scoped>\n",
       "    .dataframe tbody tr th:only-of-type {\n",
       "        vertical-align: middle;\n",
       "    }\n",
       "\n",
       "    .dataframe tbody tr th {\n",
       "        vertical-align: top;\n",
       "    }\n",
       "\n",
       "    .dataframe thead th {\n",
       "        text-align: right;\n",
       "    }\n",
       "</style>\n",
       "<table border=\"1\" class=\"dataframe\">\n",
       "  <thead>\n",
       "    <tr style=\"text-align: right;\">\n",
       "      <th></th>\n",
       "      <th>x</th>\n",
       "      <th>n</th>\n",
       "      <th>y</th>\n",
       "      <th>pct</th>\n",
       "    </tr>\n",
       "  </thead>\n",
       "  <tbody>\n",
       "    <tr>\n",
       "      <th>0</th>\n",
       "      <td>0.28</td>\n",
       "      <td>45198</td>\n",
       "      <td>45183</td>\n",
       "      <td>0.999668</td>\n",
       "    </tr>\n",
       "    <tr>\n",
       "      <th>1</th>\n",
       "      <td>0.97</td>\n",
       "      <td>183020</td>\n",
       "      <td>182899</td>\n",
       "      <td>0.999339</td>\n",
       "    </tr>\n",
       "    <tr>\n",
       "      <th>2</th>\n",
       "      <td>1.93</td>\n",
       "      <td>169503</td>\n",
       "      <td>168594</td>\n",
       "      <td>0.994637</td>\n",
       "    </tr>\n",
       "    <tr>\n",
       "      <th>3</th>\n",
       "      <td>2.92</td>\n",
       "      <td>113094</td>\n",
       "      <td>108953</td>\n",
       "      <td>0.963384</td>\n",
       "    </tr>\n",
       "    <tr>\n",
       "      <th>4</th>\n",
       "      <td>3.93</td>\n",
       "      <td>73855</td>\n",
       "      <td>64740</td>\n",
       "      <td>0.876582</td>\n",
       "    </tr>\n",
       "  </tbody>\n",
       "</table>\n",
       "</div>"
      ],
      "text/plain": [
       "      x       n       y       pct\n",
       "0  0.28   45198   45183  0.999668\n",
       "1  0.97  183020  182899  0.999339\n",
       "2  1.93  169503  168594  0.994637\n",
       "3  2.92  113094  108953  0.963384\n",
       "4  3.93   73855   64740  0.876582"
      ]
     },
     "execution_count": 8,
     "metadata": {},
     "output_type": "execute_result"
    }
   ],
   "source": [
    "\"\"\"\n",
    "The data set consists of 3 columns: [x] is the distance from the hole;\n",
    "[n] is the total number of attempts; [y] is the total number of made putts. \n",
    "It should be noted that the data is obviously binned into buckets spaced\n",
    "roughly 1 foot apart.\n",
    "\"\"\"\n",
    "\n",
    "new_data = \"\"\"\n",
    "x n y\n",
    "0.28 45198 45183\n",
    "0.97 183020 182899\n",
    "1.93 169503 168594\n",
    "2.92 113094 108953\n",
    "3.93 73855 64740\n",
    "4.94 53659 41106\n",
    "5.94 42991 28205\n",
    "6.95 37050 21334\n",
    "7.95 33275 16615\n",
    "8.95 30836 13503\n",
    "9.95 28637 11060\n",
    "10.95 26239 9032\n",
    "11.95 24636 7687\n",
    "12.95 22876 6432\n",
    "14.43 41267 9813\n",
    "16.43 35712 7196\n",
    "18.44 31573 5290\n",
    "20.44 28280 4086\n",
    "21.95 13238 1642\n",
    "24.39 46570 4767\n",
    "28.40 38422 2980\n",
    "32.39 31641 1996\n",
    "36.39 25604 1327\n",
    "40.37 20366 834\n",
    "44.38 15977 559\n",
    "48.37 11770 311\n",
    "52.36 8708 231\n",
    "57.25 8878 204\n",
    "63.23 5492 103\n",
    "69.18 3087 35\n",
    "75.19 1742 24\n",
    "\"\"\"\n",
    "\n",
    "data = pd.read_csv(io.StringIO(new_data),sep=' ')\n",
    "data['pct'] = data['y']/data['n']\n",
    "data.head()"
   ]
  },
  {
   "cell_type": "markdown",
   "metadata": {},
   "source": [
    "Here is a plot of the putting success as a function of distance."
   ]
  },
  {
   "cell_type": "code",
   "execution_count": 12,
   "metadata": {},
   "outputs": [
    {
     "data": {
      "text/plain": [
       "<seaborn.axisgrid.FacetGrid at 0x7f51f5740828>"
      ]
     },
     "execution_count": 12,
     "metadata": {},
     "output_type": "execute_result"
    },
    {
     "data": {
      "image/png": "[encoded data removed]",
      "text/plain": [
       "<Figure size 360x360 with 1 Axes>"
      ]
     },
     "metadata": {},
     "output_type": "display_data"
    }
   ],
   "source": [
    "sns.relplot(data=data, x=\"x\", y=\"pct\")"
   ]
  },
  {
   "cell_type": "markdown",
   "metadata": {},
   "source": [
    "## Logistic Regression Model\n",
    "\n",
    "The first model we'll recreate in Pyro is the logistic regression model. This model has two parameters to be determined `a` and `b`, which will be found by variation inference. The model is defined as a plane old Python function."
   ]
  },
  {
   "cell_type": "code",
   "execution_count": 13,
   "metadata": {},
   "outputs": [],
   "source": [
    "def model(data):\n",
    "    a = pyro.sample(\"a\", dist.Normal(0,1))\n",
    "    b = pyro.sample(\"b\", dist.Normal(0, 1))\n",
    "    x = torch.Tensor(data[\"x\"])\n",
    "    y = torch.Tensor(data[\"y\"])\n",
    "    n = torch.Tensor(data[\"n\"])\n",
    "    with pyro.plate(\"data\", len(data)):\n",
    "        pyro.sample(\"p\", dist.Binomial(n, logits=a+b*x), obs=y)\n",
    "        return torch.sigmoid(a+b*x)"
   ]
  },
  {
   "cell_type": "markdown",
   "metadata": {},
   "source": [
    "Any time we want to create latent variables to be sampled from we use the `pyro.sample` function, which accepts a string as a name (used internally by Pyro to track each parameter) and a distribution from the Torch or Pyro library. We use another `pyro.sample` statement with an `obs` argument to pass in our actual observations from the golf dataset. In this example the calculations are all vectorized so we don't have to explicitly loop through the rows. The `with` statement is not really necessary in this example, but in theory, it helps Pyro do more efficient inference calculations by marking the data as conditionally independent. The values passed into the `return` statement will enable us to do some plotting later. "
   ]
  },
  {
   "cell_type": "markdown",
   "metadata": {},
   "source": [
    "So now that we have created the model, the next step is to define a function that Pyro refers to as a `guide`. The guide is how Pyro does variational inference, which to describe way too briefly is a way of approximating the posterior distribution `p` by optimization of some other function `q`. In many cases you can use Pyro's \"black box\" variational inference algorithm, which means you don't have to explicitly define the guide. In fact, for all 3 of these models I used this approach. I'm still wrapping my head around writing explicit guides on my own."
   ]
  },
  {
   "cell_type": "code",
   "execution_count": 14,
   "metadata": {},
   "outputs": [],
   "source": [
    "guide = AutoDiagonalNormal(model)"
   ]
  },
  {
   "cell_type": "markdown",
   "metadata": {},
   "source": [
    "That's all you have to do! From here on out, it's easy peasy. We simply choose one of Pyro's built-in optimizers and a loss function. You may have heard of `Adam` before if you have done any deep learning. The `ELBO` loss is a bit more obscure. It stands for \"Evidence Lower Bound\" and can be derived using the Kullback-Leibler Divergence to compare the posterior distribution with our variational distribution (or guide in this case). The important point I want to emphasize here is that variational inference is essentially just optimization, which means it can be performed much, much faster than sampling algorithms that are more typical of PPLs (eg MCMC, NUTS, HMC, etc). The downside to variational approaches is they are approximations whereas sampling algorithms can eventually converge on an exact posterior. For our purposes VI is more than good enough as you'll see!"
   ]
  },
  {
   "cell_type": "code",
   "execution_count": 15,
   "metadata": {},
   "outputs": [],
   "source": [
    "adam = pyro.optim.Adam({\"lr\": 0.03})\n",
    "svi = SVI(model, guide, adam, loss=Trace_ELBO())"
   ]
  },
  {
   "cell_type": "markdown",
   "metadata": {},
   "source": [
    "`SVI` is Pyro's class for performing stochastic variational inference. It takes a model, guide, optimizer, and loss function, all of which we just defined. Now we perform the inference steps."
   ]
  },
  {
   "cell_type": "code",
   "execution_count": 16,
   "metadata": {},
   "outputs": [
    {
     "name": "stdout",
     "output_type": "stream",
     "text": [
      "[iteration 0001] loss: 14468.9522\n",
      "[iteration 0101] loss: 5330.1439\n",
      "[iteration 0201] loss: 2319.9911\n",
      "[iteration 0301] loss: 2401.6161\n",
      "[iteration 0401] loss: 2480.4197\n",
      "[iteration 0501] loss: 2451.2360\n",
      "[iteration 0601] loss: 2336.4442\n",
      "[iteration 0701] loss: 2363.1881\n",
      "[iteration 0801] loss: 2294.1168\n",
      "[iteration 0901] loss: 2508.3753\n"
     ]
    }
   ],
   "source": [
    "pyro.clear_param_store()\n",
    "for j in range(1000):\n",
    "    # calculate the loss and take a gradient step\n",
    "    loss = svi.step(data)\n",
    "    if j % 100 == 0:\n",
    "        print(\"[iteration %04d] loss: %.4f\" % (j + 1, loss / len(data)))"
   ]
  },
  {
   "cell_type": "markdown",
   "metadata": {},
   "source": [
    "Let's look at the values of the parameters `a` and `b`:"
   ]
  },
  {
   "cell_type": "code",
   "execution_count": 17,
   "metadata": {},
   "outputs": [
    {
     "name": "stdout",
     "output_type": "stream",
     "text": [
      "AutoDiagonalNormal.loc Parameter containing:\n",
      "tensor([ 2.8320, -0.2529])\n",
      "AutoDiagonalNormal.scale tensor([0.0282, 0.0082])\n"
     ]
    }
   ],
   "source": [
    "guide.requires_grad_(False)\n",
    "\n",
    "for name, value in pyro.get_param_store().items():\n",
    "    print(name, pyro.param(name))"
   ]
  },
  {
   "cell_type": "markdown",
   "metadata": {},
   "source": [
    "The `.loc` parameters are the means of `a` and `b` and the `.scale` parameters are the standard deviations. These are very close to the values given in the two blog posts, which is good to see because those two posts use the more exact sampling algorithms for inference."
   ]
  },
  {
   "cell_type": "markdown",
   "metadata": {},
   "source": [
    "Now let's generate some samples from the posterior distribution and plot our model vs the original data."
   ]
  },
  {
   "cell_type": "code",
   "execution_count": 19,
   "metadata": {},
   "outputs": [
    {
     "data": {
      "text/html": [
       "<div>\n",
       "<style scoped>\n",
       "    .dataframe tbody tr th:only-of-type {\n",
       "        vertical-align: middle;\n",
       "    }\n",
       "\n",
       "    .dataframe tbody tr th {\n",
       "        vertical-align: top;\n",
       "    }\n",
       "\n",
       "    .dataframe thead th {\n",
       "        text-align: right;\n",
       "    }\n",
       "</style>\n",
       "<table border=\"1\" class=\"dataframe\">\n",
       "  <thead>\n",
       "    <tr style=\"text-align: right;\">\n",
       "      <th></th>\n",
       "      <th>x</th>\n",
       "      <th>n</th>\n",
       "      <th>y</th>\n",
       "      <th>pct</th>\n",
       "      <th>pct_fit</th>\n",
       "      <th>lo</th>\n",
       "      <th>hi</th>\n",
       "    </tr>\n",
       "  </thead>\n",
       "  <tbody>\n",
       "    <tr>\n",
       "      <th>0</th>\n",
       "      <td>0.28</td>\n",
       "      <td>45198</td>\n",
       "      <td>45183</td>\n",
       "      <td>0.999668</td>\n",
       "      <td>0.940438</td>\n",
       "      <td>0.937973</td>\n",
       "      <td>0.942971</td>\n",
       "    </tr>\n",
       "    <tr>\n",
       "      <th>1</th>\n",
       "      <td>0.97</td>\n",
       "      <td>183020</td>\n",
       "      <td>182899</td>\n",
       "      <td>0.999339</td>\n",
       "      <td>0.929873</td>\n",
       "      <td>0.926846</td>\n",
       "      <td>0.932950</td>\n",
       "    </tr>\n",
       "    <tr>\n",
       "      <th>2</th>\n",
       "      <td>1.93</td>\n",
       "      <td>169503</td>\n",
       "      <td>168594</td>\n",
       "      <td>0.994637</td>\n",
       "      <td>0.912277</td>\n",
       "      <td>0.908170</td>\n",
       "      <td>0.916318</td>\n",
       "    </tr>\n",
       "    <tr>\n",
       "      <th>3</th>\n",
       "      <td>2.92</td>\n",
       "      <td>113094</td>\n",
       "      <td>108953</td>\n",
       "      <td>0.963384</td>\n",
       "      <td>0.890043</td>\n",
       "      <td>0.884190</td>\n",
       "      <td>0.895799</td>\n",
       "    </tr>\n",
       "    <tr>\n",
       "      <th>4</th>\n",
       "      <td>3.93</td>\n",
       "      <td>73855</td>\n",
       "      <td>64740</td>\n",
       "      <td>0.876582</td>\n",
       "      <td>0.862416</td>\n",
       "      <td>0.854141</td>\n",
       "      <td>0.870438</td>\n",
       "    </tr>\n",
       "  </tbody>\n",
       "</table>\n",
       "</div>"
      ],
      "text/plain": [
       "      x       n       y       pct   pct_fit        lo        hi\n",
       "0  0.28   45198   45183  0.999668  0.940438  0.937973  0.942971\n",
       "1  0.97  183020  182899  0.999339  0.929873  0.926846  0.932950\n",
       "2  1.93  169503  168594  0.994637  0.912277  0.908170  0.916318\n",
       "3  2.92  113094  108953  0.963384  0.890043  0.884190  0.895799\n",
       "4  3.93   73855   64740  0.876582  0.862416  0.854141  0.870438"
      ]
     },
     "execution_count": 19,
     "metadata": {},
     "output_type": "execute_result"
    }
   ],
   "source": [
    "def summary(samples):\n",
    "    site_stats = {}\n",
    "    for k, v in samples.items():\n",
    "        site_stats[k] = {\n",
    "            \"mean\": torch.mean(v, 0),\n",
    "            \"std\": torch.std(v, 0),\n",
    "            \"5%\": v.kthvalue(int(len(v) * 0.05), dim=0)[0],\n",
    "            \"95%\": v.kthvalue(int(len(v) * 0.95), dim=0)[0],\n",
    "        }\n",
    "    return site_stats\n",
    "\n",
    "\n",
    "predictive = Predictive(model, guide=guide, num_samples=800, return_sites=(\"obs\",'_RETURN'))\n",
    "samples = predictive(data)\n",
    "pred_summary = summary(samples)\n",
    "\n",
    "data['pct_fit'] = pred_summary['_RETURN']['mean']\n",
    "data['lo'] = pred_summary['_RETURN']['5%']\n",
    "data['hi'] = pred_summary['_RETURN']['95%']\n",
    "data.head(5)"
   ]
  },
  {
   "cell_type": "code",
   "execution_count": 28,
   "metadata": {},
   "outputs": [
    {
     "data": {
      "text/plain": [
       "Text(0, 0.5, '% putts made')"
      ]
     },
     "execution_count": 28,
     "metadata": {},
     "output_type": "execute_result"
    },
    {
     "data": {
      "image/png": "[encoded data removed]",
      "text/plain": [
       "<Figure size 432x288 with 1 Axes>"
      ]
     },
     "metadata": {},
     "output_type": "display_data"
    }
   ],
   "source": [
    "fig, ax = plt.subplots()\n",
    "ax.plot(data['x'],data['pct'], 'b.')\n",
    "ax.fill_between(data['x'], data['lo'], data['hi'])\n",
    "plt.xlabel('distance from hole (ft)')\n",
    "plt.ylabel('% putts made')"
   ]
  },
  {
   "cell_type": "markdown",
   "metadata": {},
   "source": [
    "As you can see here the logistic regression model only gives a rough approximation. Let's try something a bit more sophisticated."
   ]
  },
  {
   "cell_type": "markdown",
   "metadata": {},
   "source": [
    "## Angle Model"
   ]
  },
  {
   "cell_type": "markdown",
   "metadata": {},
   "source": [
    "So the next model we're going to build assumes that putting errors are related to the angle of the trajectory of the ball to the cup. The shorter the distance of the ball to the cup the more tolerance there is for this error. The golfer tries to hit the ball perfectly straight but we assume in the model that errors in the angle are normally distributed with a standard deviation $\\sigma$. "
   ]
  },
  {
   "cell_type": "code",
   "execution_count": 30,
   "metadata": {},
   "outputs": [],
   "source": [
    "def model(data):\n",
    "    r = torch.tensor(1.68/24) # using torch.Tensor() here results in: TypeError: new(): data must be a sequence (got float)\n",
    "    R = torch.tensor(4.25/24) \n",
    "    sigma = pyro.sample(\"sigma\", dist.Uniform(0,1))\n",
    "    x = torch.Tensor(data[\"x\"])\n",
    "    y = torch.Tensor(data[\"y\"])\n",
    "    n = torch.Tensor(data[\"n\"])\n",
    "    threshold_angle = torch.Tensor(np.arcsin((R-r) / x))\n",
    "    p = torch.Tensor(2.0*dist.Normal(0,1).cdf(threshold_angle / sigma) - 1.0)\n",
    "    with pyro.plate(\"data\", len(data)):\n",
    "        pyro.sample(\"succ\", dist.Binomial(n, p), obs=y)\n",
    "        return p"
   ]
  },
  {
   "cell_type": "markdown",
   "metadata": {},
   "source": [
    "In this model `r` is the radius of the golf ball (in feet), `R` is the radius of the cup, sigma is the latent variable for $\\sigma$ that we will model with a uniform prior, and the `threshold_angle` describes the angle needed to make a putt. "
   ]
  },
  {
   "cell_type": "markdown",
   "metadata": {},
   "source": [
    "Now we just carry out the inference steps as before."
   ]
  },
  {
   "cell_type": "code",
   "execution_count": 31,
   "metadata": {},
   "outputs": [
    {
     "name": "stdout",
     "output_type": "stream",
     "text": [
      "[iteration 0001] loss: 57394.9396\n",
      "[iteration 0501] loss: 334.5843\n",
      "[iteration 1001] loss: 340.3694\n",
      "[iteration 1501] loss: 335.3992\n",
      "[iteration 2001] loss: 334.2980\n",
      "[iteration 2501] loss: 334.9189\n",
      "[iteration 3001] loss: 337.8373\n",
      "[iteration 3501] loss: 335.2401\n",
      "[iteration 4001] loss: 334.2563\n",
      "[iteration 4501] loss: 334.5344\n"
     ]
    }
   ],
   "source": [
    "guide = AutoDiagonalNormal(model)\n",
    "adam = pyro.optim.Adam({\"lr\": 0.03})\n",
    "svi = SVI(model, guide, adam, loss=Trace_ELBO())\n",
    "\n",
    "pyro.clear_param_store()\n",
    "for j in range(5000):\n",
    "    # calculate the loss and take a gradient step\n",
    "    loss = svi.step(data)\n",
    "    if j % 500 == 0:\n",
    "        print(\"[iteration %04d] loss: %.4f\" % (j + 1, loss / len(data)))"
   ]
  },
  {
   "cell_type": "code",
   "execution_count": 35,
   "metadata": {},
   "outputs": [],
   "source": [
    "guide.requires_grad_(False)\n",
    "\n",
    "def summary(samples):\n",
    "    site_stats = {}\n",
    "    for k, v in samples.items():\n",
    "        site_stats[k] = {\n",
    "            \"mean\": torch.mean(v, 0),\n",
    "            \"std\": torch.std(v, 0),\n",
    "            \"5%\": v.kthvalue(int(len(v) * 0.05), dim=0)[0],\n",
    "            \"95%\": v.kthvalue(int(len(v) * 0.95), dim=0)[0],\n",
    "        }\n",
    "    return site_stats\n",
    "\n",
    "\n",
    "predictive = Predictive(model, guide=guide, num_samples=800, return_sites=(\"succ\",\"sigma\",\"_RETURN\"))\n",
    "samples = predictive(data)\n",
    "pred_summary = summary(samples)"
   ]
  },
  {
   "cell_type": "code",
   "execution_count": 36,
   "metadata": {},
   "outputs": [
    {
     "data": {
      "text/plain": [
       "<seaborn.axisgrid.FacetGrid at 0x7f51ec49e8d0>"
      ]
     },
     "execution_count": 36,
     "metadata": {},
     "output_type": "execute_result"
    },
    {
     "data": {
      "image/png": "[encoded data removed]",
      "text/plain": [
       "<Figure size 360x360 with 1 Axes>"
      ]
     },
     "metadata": {},
     "output_type": "display_data"
    }
   ],
   "source": [
    "sigma = samples['sigma'].numpy().squeeze()\n",
    "sns.displot(x=sigma, kind='hist')"
   ]
  },
  {
   "cell_type": "code",
   "execution_count": 38,
   "metadata": {},
   "outputs": [
    {
     "data": {
      "text/html": [
       "<div>\n",
       "<style scoped>\n",
       "    .dataframe tbody tr th:only-of-type {\n",
       "        vertical-align: middle;\n",
       "    }\n",
       "\n",
       "    .dataframe tbody tr th {\n",
       "        vertical-align: top;\n",
       "    }\n",
       "\n",
       "    .dataframe thead th {\n",
       "        text-align: right;\n",
       "    }\n",
       "</style>\n",
       "<table border=\"1\" class=\"dataframe\">\n",
       "  <thead>\n",
       "    <tr style=\"text-align: right;\">\n",
       "      <th></th>\n",
       "      <th>x</th>\n",
       "      <th>n</th>\n",
       "      <th>y</th>\n",
       "      <th>pct</th>\n",
       "      <th>pct_fit</th>\n",
       "      <th>lo</th>\n",
       "      <th>hi</th>\n",
       "    </tr>\n",
       "  </thead>\n",
       "  <tbody>\n",
       "    <tr>\n",
       "      <th>0</th>\n",
       "      <td>0.28</td>\n",
       "      <td>45198</td>\n",
       "      <td>45183</td>\n",
       "      <td>0.999668</td>\n",
       "      <td>1.000000</td>\n",
       "      <td>1.000000</td>\n",
       "      <td>1.000000</td>\n",
       "    </tr>\n",
       "    <tr>\n",
       "      <th>1</th>\n",
       "      <td>0.97</td>\n",
       "      <td>183020</td>\n",
       "      <td>182899</td>\n",
       "      <td>0.999339</td>\n",
       "      <td>1.000000</td>\n",
       "      <td>1.000000</td>\n",
       "      <td>1.000000</td>\n",
       "    </tr>\n",
       "    <tr>\n",
       "      <th>2</th>\n",
       "      <td>1.93</td>\n",
       "      <td>169503</td>\n",
       "      <td>168594</td>\n",
       "      <td>0.994637</td>\n",
       "      <td>0.994648</td>\n",
       "      <td>0.994341</td>\n",
       "      <td>0.994945</td>\n",
       "    </tr>\n",
       "    <tr>\n",
       "      <th>3</th>\n",
       "      <td>2.92</td>\n",
       "      <td>113094</td>\n",
       "      <td>108953</td>\n",
       "      <td>0.963384</td>\n",
       "      <td>0.934281</td>\n",
       "      <td>0.932491</td>\n",
       "      <td>0.936038</td>\n",
       "    </tr>\n",
       "    <tr>\n",
       "      <th>4</th>\n",
       "      <td>3.93</td>\n",
       "      <td>73855</td>\n",
       "      <td>64740</td>\n",
       "      <td>0.876582</td>\n",
       "      <td>0.828453</td>\n",
       "      <td>0.825623</td>\n",
       "      <td>0.831251</td>\n",
       "    </tr>\n",
       "  </tbody>\n",
       "</table>\n",
       "</div>"
      ],
      "text/plain": [
       "      x       n       y       pct   pct_fit        lo        hi\n",
       "0  0.28   45198   45183  0.999668  1.000000  1.000000  1.000000\n",
       "1  0.97  183020  182899  0.999339  1.000000  1.000000  1.000000\n",
       "2  1.93  169503  168594  0.994637  0.994648  0.994341  0.994945\n",
       "3  2.92  113094  108953  0.963384  0.934281  0.932491  0.936038\n",
       "4  3.93   73855   64740  0.876582  0.828453  0.825623  0.831251"
      ]
     },
     "execution_count": 38,
     "metadata": {},
     "output_type": "execute_result"
    }
   ],
   "source": [
    "data['pct_fit'] = pred_summary['_RETURN']['mean']\n",
    "data['lo'] = pred_summary['_RETURN']['5%']\n",
    "data['hi'] = pred_summary['_RETURN']['95%']\n",
    "data.head(5)"
   ]
  },
  {
   "cell_type": "code",
   "execution_count": 40,
   "metadata": {},
   "outputs": [
    {
     "data": {
      "text/plain": [
       "Text(0, 0.5, '% putts made')"
      ]
     },
     "execution_count": 40,
     "metadata": {},
     "output_type": "execute_result"
    },
    {
     "data": {
      "image/png": "[encoded data removed]",
      "text/plain": [
       "<Figure size 432x288 with 1 Axes>"
      ]
     },
     "metadata": {},
     "output_type": "display_data"
    }
   ],
   "source": [
    "fig, ax = plt.subplots()\n",
    "ax.plot(data['x'],data['pct'], 'b.')\n",
    "ax.fill_between(data['x'], data['lo'], data['hi'])\n",
    "plt.xlabel('distance from hole (ft)')\n",
    "plt.ylabel('% putts made')"
   ]
  },
  {
   "cell_type": "markdown",
   "metadata": {},
   "source": [
    "Interestingly, the fit is pretty good only out to about 10 feet. The next clever addition to the model is to take into account how hard the ball is hit. "
   ]
  },
  {
   "cell_type": "markdown",
   "metadata": {},
   "source": [
    "## Accounting for Putt Strength"
   ]
  },
  {
   "cell_type": "markdown",
   "metadata": {},
   "source": [
    "This adds a few new terms to the model. I highly recommend reading the previously mentioned blog posts if you want to understand the physical explanation underlying the rational for adding these terms. "
   ]
  },
  {
   "cell_type": "code",
   "execution_count": 42,
   "metadata": {},
   "outputs": [],
   "source": [
    "def model(data):\n",
    "    r = torch.tensor(1.68/24) # using torch.Tensor() here results in: TypeError: new(): data must be a sequence (got float)\n",
    "    R = torch.tensor(4.25/24) \n",
    "    overshot = torch.tensor(1) # 1 foot\n",
    "    distance_tolerance = torch.tensor(3)\n",
    "    sigma_angle = pyro.sample(\"sigma_angle\", dist.HalfNormal(1))\n",
    "    sigma_distance = pyro.sample(\"sigma_distance\", dist.HalfNormal(1))\n",
    "    x = torch.Tensor(data[\"x\"])\n",
    "    y = torch.Tensor(data[\"y\"])\n",
    "    n = torch.Tensor(data[\"n\"])\n",
    "    threshold_angle = torch.Tensor(np.arcsin((R-r) / x))\n",
    "    p_angle = torch.Tensor(2.0*dist.Normal(0,1).cdf(threshold_angle / sigma_angle) - 1.0)\n",
    "    p_distance = torch.Tensor(dist.Normal(0,1).cdf((distance_tolerance - overshot)/((x + overshot)*sigma_distance)) -\n",
    "                             dist.Normal(0,1).cdf((- overshot) / ((x + overshot)*sigma_distance)))\n",
    "    p = p_angle * p_distance\n",
    "    with pyro.plate(\"data\", len(data)):\n",
    "        pyro.sample(\"succ\", dist.Binomial(n, p), obs=y)\n",
    "        return p"
   ]
  },
  {
   "cell_type": "markdown",
   "metadata": {},
   "source": [
    "Clearly, this got quite a bit more complicated, but actually it was pretty straightforward to implement in Pyro. Now we just go through the inference once again."
   ]
  },
  {
   "cell_type": "code",
   "execution_count": 43,
   "metadata": {},
   "outputs": [
    {
     "name": "stdout",
     "output_type": "stream",
     "text": [
      "[iteration 0001] loss: 86526.8937\n",
      "[iteration 0501] loss: 71.6018\n",
      "[iteration 1001] loss: 67.4359\n",
      "[iteration 1501] loss: 55.3861\n",
      "[iteration 2001] loss: 52.0381\n",
      "[iteration 2501] loss: 53.0715\n",
      "[iteration 3001] loss: 54.5639\n",
      "[iteration 3501] loss: 51.7999\n",
      "[iteration 4001] loss: 52.1124\n",
      "[iteration 4501] loss: 52.5968\n"
     ]
    }
   ],
   "source": [
    "guide = AutoDiagonalNormal(model)\n",
    "adam = pyro.optim.Adam({\"lr\": 0.03})\n",
    "svi = SVI(model, guide, adam, loss=Trace_ELBO())\n",
    "\n",
    "pyro.clear_param_store()\n",
    "for j in range(5000):\n",
    "    # calculate the loss and take a gradient step\n",
    "    loss = svi.step(data)\n",
    "    if j % 500 == 0:\n",
    "        print(\"[iteration %04d] loss: %.4f\" % (j + 1, loss / len(data)))"
   ]
  },
  {
   "cell_type": "code",
   "execution_count": 44,
   "metadata": {},
   "outputs": [],
   "source": [
    "guide.requires_grad_(False)\n",
    "\n",
    "def summary(samples):\n",
    "    site_stats = {}\n",
    "    for k, v in samples.items():\n",
    "        site_stats[k] = {\n",
    "            \"mean\": torch.mean(v, 0),\n",
    "            \"std\": torch.std(v, 0),\n",
    "            \"5%\": v.kthvalue(int(len(v) * 0.05), dim=0)[0],\n",
    "            \"95%\": v.kthvalue(int(len(v) * 0.95), dim=0)[0],\n",
    "        }\n",
    "    return site_stats\n",
    "\n",
    "\n",
    "predictive = Predictive(model, guide=guide, num_samples=800, return_sites=(\"succ\",\"sigma_angle\",\"sigma_distance\",\"_RETURN\"))\n",
    "samples = predictive(data)\n",
    "pred_summary = summary(samples)"
   ]
  },
  {
   "cell_type": "code",
   "execution_count": 47,
   "metadata": {},
   "outputs": [
    {
     "data": {
      "text/plain": [
       "<seaborn.axisgrid.FacetGrid at 0x7f51ec2ff4a8>"
      ]
     },
     "execution_count": 47,
     "metadata": {},
     "output_type": "execute_result"
    },
    {
     "data": {
      "image/png": "[encoded data removed]",
      "text/plain": [
       "<Figure size 360x360 with 1 Axes>"
      ]
     },
     "metadata": {},
     "output_type": "display_data"
    }
   ],
   "source": [
    "sigma_angle = samples['sigma_angle'].numpy().squeeze()\n",
    "sns.displot(x=sigma_angle, kind='hist')"
   ]
  },
  {
   "cell_type": "code",
   "execution_count": 48,
   "metadata": {},
   "outputs": [
    {
     "data": {
      "text/plain": [
       "<seaborn.axisgrid.FacetGrid at 0x7f51ec2b4d68>"
      ]
     },
     "execution_count": 48,
     "metadata": {},
     "output_type": "execute_result"
    },
    {
     "data": {
      "image/png": "[encoded data removed]",
      "text/plain": [
       "<Figure size 360x360 with 1 Axes>"
      ]
     },
     "metadata": {},
     "output_type": "display_data"
    }
   ],
   "source": [
    "sigma_distance = samples['sigma_distance'].numpy().squeeze()\n",
    "sns.displot(x=sigma_distance, kind='hist')"
   ]
  },
  {
   "cell_type": "code",
   "execution_count": 45,
   "metadata": {},
   "outputs": [
    {
     "data": {
      "text/html": [
       "<div>\n",
       "<style scoped>\n",
       "    .dataframe tbody tr th:only-of-type {\n",
       "        vertical-align: middle;\n",
       "    }\n",
       "\n",
       "    .dataframe tbody tr th {\n",
       "        vertical-align: top;\n",
       "    }\n",
       "\n",
       "    .dataframe thead th {\n",
       "        text-align: right;\n",
       "    }\n",
       "</style>\n",
       "<table border=\"1\" class=\"dataframe\">\n",
       "  <thead>\n",
       "    <tr style=\"text-align: right;\">\n",
       "      <th></th>\n",
       "      <th>x</th>\n",
       "      <th>n</th>\n",
       "      <th>y</th>\n",
       "      <th>pct</th>\n",
       "      <th>pct_fit</th>\n",
       "      <th>lo</th>\n",
       "      <th>hi</th>\n",
       "    </tr>\n",
       "  </thead>\n",
       "  <tbody>\n",
       "    <tr>\n",
       "      <th>0</th>\n",
       "      <td>0.28</td>\n",
       "      <td>45198</td>\n",
       "      <td>45183</td>\n",
       "      <td>0.999668</td>\n",
       "      <td>1.000000</td>\n",
       "      <td>1.000000</td>\n",
       "      <td>1.000000</td>\n",
       "    </tr>\n",
       "    <tr>\n",
       "      <th>1</th>\n",
       "      <td>0.97</td>\n",
       "      <td>183020</td>\n",
       "      <td>182899</td>\n",
       "      <td>0.999339</td>\n",
       "      <td>1.000000</td>\n",
       "      <td>1.000000</td>\n",
       "      <td>1.000000</td>\n",
       "    </tr>\n",
       "    <tr>\n",
       "      <th>2</th>\n",
       "      <td>1.93</td>\n",
       "      <td>169503</td>\n",
       "      <td>168594</td>\n",
       "      <td>0.994637</td>\n",
       "      <td>0.997844</td>\n",
       "      <td>0.997652</td>\n",
       "      <td>0.998022</td>\n",
       "    </tr>\n",
       "    <tr>\n",
       "      <th>3</th>\n",
       "      <td>2.92</td>\n",
       "      <td>113094</td>\n",
       "      <td>108953</td>\n",
       "      <td>0.963384</td>\n",
       "      <td>0.956956</td>\n",
       "      <td>0.955159</td>\n",
       "      <td>0.958650</td>\n",
       "    </tr>\n",
       "    <tr>\n",
       "      <th>4</th>\n",
       "      <td>3.93</td>\n",
       "      <td>73855</td>\n",
       "      <td>64740</td>\n",
       "      <td>0.876582</td>\n",
       "      <td>0.864331</td>\n",
       "      <td>0.860999</td>\n",
       "      <td>0.867608</td>\n",
       "    </tr>\n",
       "  </tbody>\n",
       "</table>\n",
       "</div>"
      ],
      "text/plain": [
       "      x       n       y       pct   pct_fit        lo        hi\n",
       "0  0.28   45198   45183  0.999668  1.000000  1.000000  1.000000\n",
       "1  0.97  183020  182899  0.999339  1.000000  1.000000  1.000000\n",
       "2  1.93  169503  168594  0.994637  0.997844  0.997652  0.998022\n",
       "3  2.92  113094  108953  0.963384  0.956956  0.955159  0.958650\n",
       "4  3.93   73855   64740  0.876582  0.864331  0.860999  0.867608"
      ]
     },
     "execution_count": 45,
     "metadata": {},
     "output_type": "execute_result"
    }
   ],
   "source": [
    "data['pct_fit'] = pred_summary['_RETURN']['mean']\n",
    "data['lo'] = pred_summary['_RETURN']['5%']\n",
    "data['hi'] = pred_summary['_RETURN']['95%']\n",
    "data.head(5)"
   ]
  },
  {
   "cell_type": "code",
   "execution_count": 46,
   "metadata": {},
   "outputs": [
    {
     "data": {
      "text/plain": [
       "Text(0, 0.5, '% putts made')"
      ]
     },
     "execution_count": 46,
     "metadata": {},
     "output_type": "execute_result"
    },
    {
     "data": {
      "image/png": "[encoded data removed]",
      "text/plain": [
       "<Figure size 432x288 with 1 Axes>"
      ]
     },
     "metadata": {},
     "output_type": "display_data"
    }
   ],
   "source": [
    "fig, ax = plt.subplots()\n",
    "ax.plot(data['x'],data['pct'], 'b.')\n",
    "ax.fill_between(data['x'], data['lo'], data['hi'])\n",
    "plt.xlabel('distance from hole (ft)')\n",
    "plt.ylabel('% putts made')"
   ]
  },
  {
   "cell_type": "markdown",
   "metadata": {},
   "source": [
    "Wow! As you can see adding putt strength really improved the fit. Well, that was fun. I hope you can see the usefulness of PPL's and do make an effort to check out Pyro if you decide you're interested in adding a tool like this to your toolbox."
   ]
  },
  {
   "cell_type": "code",
   "execution_count": null,
   "metadata": {},
   "outputs": [],
   "source": []
  }
 ],
 "metadata": {
  "kernelspec": {
   "display_name": "pyro",
   "language": "python",
   "name": "pyro"
  },
  "language_info": {
   "codemirror_mode": {
    "name": "ipython",
    "version": 3
   },
   "file_extension": ".py",
   "mimetype": "text/x-python",
   "name": "python",
   "nbconvert_exporter": "python",
   "pygments_lexer": "ipython3",
   "version": "3.7.0"
  }
 },
 "nbformat": 4,
 "nbformat_minor": 4
}
