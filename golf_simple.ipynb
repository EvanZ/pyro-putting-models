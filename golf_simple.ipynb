{
 "cells": [
  {
   "cell_type": "code",
   "execution_count": 31,
   "metadata": {},
   "outputs": [],
   "source": [
    "import io\n",
    "\n",
    "import torch\n",
    "import pyro\n",
    "import pyro.distributions as dist\n",
    "import pandas as pd\n",
    "import numpy as np\n",
    "import matplotlib.pyplot as plt\n",
    "import seaborn as sns\n",
    "\n",
    "%matplotlib inline\n",
    "sns.set_style(\"darkgrid\")"
   ]
  },
  {
   "cell_type": "code",
   "execution_count": 2,
   "metadata": {},
   "outputs": [],
   "source": [
    "old_data = \"\"\"\n",
    "x n y\n",
    "2 1443 1346\n",
    "3 694 577\n",
    "4 455 337\n",
    "5 353 208\n",
    "6 272 149\n",
    "7 256 136\n",
    "8 240 111\n",
    "9 217 69\n",
    "10 200 67\n",
    "11 237 75\n",
    "12 202 52\n",
    "13 192 46\n",
    "14 174 54\n",
    "15 167 28\n",
    "16 201 27\n",
    "17 195 31\n",
    "18 191 33\n",
    "19 147 20\n",
    "20 152 24\n",
    "\"\"\""
   ]
  },
  {
   "cell_type": "code",
   "execution_count": 3,
   "metadata": {},
   "outputs": [],
   "source": [
    "new_data = \"\"\"\n",
    "x n y\n",
    "0.28 45198 45183\n",
    "0.97 183020 182899\n",
    "1.93 169503 168594\n",
    "2.92 113094 108953\n",
    "3.93 73855 64740\n",
    "4.94 53659 41106\n",
    "5.94 42991 28205\n",
    "6.95 37050 21334\n",
    "7.95 33275 16615\n",
    "8.95 30836 13503\n",
    "9.95 28637 11060\n",
    "10.95 26239 9032\n",
    "11.95 24636 7687\n",
    "12.95 22876 6432\n",
    "14.43 41267 9813\n",
    "16.43 35712 7196\n",
    "18.44 31573 5290\n",
    "20.44 28280 4086\n",
    "21.95 13238 1642\n",
    "24.39 46570 4767\n",
    "28.40 38422 2980\n",
    "32.39 31641 1996\n",
    "36.39 25604 1327\n",
    "40.37 20366 834\n",
    "44.38 15977 559\n",
    "48.37 11770 311\n",
    "52.36 8708 231\n",
    "57.25 8878 204\n",
    "63.23 5492 103\n",
    "69.18 3087 35\n",
    "75.19 1742 24\n",
    "\"\"\""
   ]
  },
  {
   "cell_type": "code",
   "execution_count": 19,
   "metadata": {},
   "outputs": [
    {
     "data": {
      "text/html": [
       "<div>\n",
       "<style scoped>\n",
       "    .dataframe tbody tr th:only-of-type {\n",
       "        vertical-align: middle;\n",
       "    }\n",
       "\n",
       "    .dataframe tbody tr th {\n",
       "        vertical-align: top;\n",
       "    }\n",
       "\n",
       "    .dataframe thead th {\n",
       "        text-align: right;\n",
       "    }\n",
       "</style>\n",
       "<table border=\"1\" class=\"dataframe\">\n",
       "  <thead>\n",
       "    <tr style=\"text-align: right;\">\n",
       "      <th></th>\n",
       "      <th>x</th>\n",
       "      <th>n</th>\n",
       "      <th>y</th>\n",
       "      <th>pct</th>\n",
       "    </tr>\n",
       "  </thead>\n",
       "  <tbody>\n",
       "    <tr>\n",
       "      <th>0</th>\n",
       "      <td>0.28</td>\n",
       "      <td>45198</td>\n",
       "      <td>45183</td>\n",
       "      <td>0.999668</td>\n",
       "    </tr>\n",
       "    <tr>\n",
       "      <th>1</th>\n",
       "      <td>0.97</td>\n",
       "      <td>183020</td>\n",
       "      <td>182899</td>\n",
       "      <td>0.999339</td>\n",
       "    </tr>\n",
       "    <tr>\n",
       "      <th>2</th>\n",
       "      <td>1.93</td>\n",
       "      <td>169503</td>\n",
       "      <td>168594</td>\n",
       "      <td>0.994637</td>\n",
       "    </tr>\n",
       "    <tr>\n",
       "      <th>3</th>\n",
       "      <td>2.92</td>\n",
       "      <td>113094</td>\n",
       "      <td>108953</td>\n",
       "      <td>0.963384</td>\n",
       "    </tr>\n",
       "    <tr>\n",
       "      <th>4</th>\n",
       "      <td>3.93</td>\n",
       "      <td>73855</td>\n",
       "      <td>64740</td>\n",
       "      <td>0.876582</td>\n",
       "    </tr>\n",
       "  </tbody>\n",
       "</table>\n",
       "</div>"
      ],
      "text/plain": [
       "      x       n       y       pct\n",
       "0  0.28   45198   45183  0.999668\n",
       "1  0.97  183020  182899  0.999339\n",
       "2  1.93  169503  168594  0.994637\n",
       "3  2.92  113094  108953  0.963384\n",
       "4  3.93   73855   64740  0.876582"
      ]
     },
     "execution_count": 19,
     "metadata": {},
     "output_type": "execute_result"
    }
   ],
   "source": [
    "data = pd.read_csv(io.StringIO(new_data),sep=' ')\n",
    "data['pct'] = data['y']/data['n']\n",
    "data.head()"
   ]
  },
  {
   "cell_type": "code",
   "execution_count": 20,
   "metadata": {},
   "outputs": [
    {
     "data": {
      "text/plain": [
       "<seaborn.axisgrid.FacetGrid at 0x7f01071966d8>"
      ]
     },
     "execution_count": 20,
     "metadata": {},
     "output_type": "execute_result"
    },
    {
     "data": {
      "image/png": "[encoded data removed]",
      "text/plain": [
       "<Figure size 433.75x360 with 1 Axes>"
      ]
     },
     "metadata": {},
     "output_type": "display_data"
    }
   ],
   "source": [
    "sns.relplot(data=data, x=\"x\", y=\"pct\", size=\"n\")"
   ]
  },
  {
   "cell_type": "code",
   "execution_count": 41,
   "metadata": {},
   "outputs": [],
   "source": [
    "def model(data):\n",
    "    a = pyro.sample(\"a\", dist.Normal(0,1))\n",
    "    b = pyro.sample(\"b\", dist.Normal(0, 1))\n",
    "    x = torch.Tensor(data[\"x\"])\n",
    "    y = torch.Tensor(data[\"y\"])\n",
    "    n = torch.Tensor(data[\"n\"])\n",
    "    with pyro.plate(\"data\", len(data)):\n",
    "        pyro.sample(\"p\", dist.Binomial(n, logits=a+b*x), obs=y)\n",
    "        return torch.sigmoid(a+b*x)"
   ]
  },
  {
   "cell_type": "code",
   "execution_count": 42,
   "metadata": {},
   "outputs": [],
   "source": [
    "from pyro.infer.autoguide import AutoDiagonalNormal\n",
    "guide = AutoDiagonalNormal(model)"
   ]
  },
  {
   "cell_type": "code",
   "execution_count": 43,
   "metadata": {},
   "outputs": [],
   "source": [
    "from pyro.infer import SVI, Trace_ELBO\n",
    "\n",
    "adam = pyro.optim.Adam({\"lr\": 0.03})\n",
    "svi = SVI(model, guide, adam, loss=Trace_ELBO())"
   ]
  },
  {
   "cell_type": "code",
   "execution_count": 44,
   "metadata": {},
   "outputs": [
    {
     "name": "stdout",
     "output_type": "stream",
     "text": [
      "[iteration 0001] loss: 126265.8574\n",
      "[iteration 0101] loss: 3744.9487\n",
      "[iteration 0201] loss: 2549.8383\n",
      "[iteration 0301] loss: 2370.6275\n",
      "[iteration 0401] loss: 2409.4407\n",
      "[iteration 0501] loss: 2958.0631\n",
      "[iteration 0601] loss: 2293.6345\n",
      "[iteration 0701] loss: 2298.1315\n",
      "[iteration 0801] loss: 2325.2450\n",
      "[iteration 0901] loss: 2350.1219\n"
     ]
    }
   ],
   "source": [
    "pyro.clear_param_store()\n",
    "for j in range(1000):\n",
    "    # calculate the loss and take a gradient step\n",
    "    loss = svi.step(data)\n",
    "    if j % 100 == 0:\n",
    "        print(\"[iteration %04d] loss: %.4f\" % (j + 1, loss / len(data)))"
   ]
  },
  {
   "cell_type": "code",
   "execution_count": 45,
   "metadata": {},
   "outputs": [
    {
     "name": "stdout",
     "output_type": "stream",
     "text": [
      "AutoDiagonalNormal.loc Parameter containing:\n",
      "tensor([ 2.8554, -0.2381])\n",
      "AutoDiagonalNormal.scale tensor([0.0370, 0.0129])\n"
     ]
    }
   ],
   "source": [
    "guide.requires_grad_(False)\n",
    "\n",
    "for name, value in pyro.get_param_store().items():\n",
    "    print(name, pyro.param(name))"
   ]
  },
  {
   "cell_type": "code",
   "execution_count": 46,
   "metadata": {},
   "outputs": [],
   "source": [
    "from pyro.infer import Predictive\n",
    "\n",
    "def summary(samples):\n",
    "    site_stats = {}\n",
    "    for k, v in samples.items():\n",
    "        site_stats[k] = {\n",
    "            \"mean\": torch.mean(v, 0),\n",
    "            \"std\": torch.std(v, 0),\n",
    "            \"5%\": v.kthvalue(int(len(v) * 0.05), dim=0)[0],\n",
    "            \"95%\": v.kthvalue(int(len(v) * 0.95), dim=0)[0],\n",
    "        }\n",
    "    return site_stats\n",
    "\n",
    "\n",
    "predictive = Predictive(model, guide=guide, num_samples=800, return_sites=(\"obs\",'_RETURN'))\n",
    "samples = predictive(data)\n",
    "pred_summary = summary(samples)"
   ]
  },
  {
   "cell_type": "code",
   "execution_count": 47,
   "metadata": {},
   "outputs": [],
   "source": [
    "data['pct_fit'] = pred_summary['_RETURN']['mean']\n",
    "data['lo'] = pred_summary['_RETURN']['5%']\n",
    "data['hi'] = pred_summary['_RETURN']['95%']"
   ]
  },
  {
   "cell_type": "code",
   "execution_count": 48,
   "metadata": {},
   "outputs": [
    {
     "data": {
      "text/html": [
       "<div>\n",
       "<style scoped>\n",
       "    .dataframe tbody tr th:only-of-type {\n",
       "        vertical-align: middle;\n",
       "    }\n",
       "\n",
       "    .dataframe tbody tr th {\n",
       "        vertical-align: top;\n",
       "    }\n",
       "\n",
       "    .dataframe thead th {\n",
       "        text-align: right;\n",
       "    }\n",
       "</style>\n",
       "<table border=\"1\" class=\"dataframe\">\n",
       "  <thead>\n",
       "    <tr style=\"text-align: right;\">\n",
       "      <th></th>\n",
       "      <th>x</th>\n",
       "      <th>n</th>\n",
       "      <th>y</th>\n",
       "      <th>pct</th>\n",
       "      <th>pct_fit</th>\n",
       "      <th>lo</th>\n",
       "      <th>hi</th>\n",
       "    </tr>\n",
       "  </thead>\n",
       "  <tbody>\n",
       "    <tr>\n",
       "      <th>0</th>\n",
       "      <td>0.28</td>\n",
       "      <td>45198</td>\n",
       "      <td>45183</td>\n",
       "      <td>0.999668</td>\n",
       "      <td>0.942109</td>\n",
       "      <td>0.938350</td>\n",
       "      <td>0.945455</td>\n",
       "    </tr>\n",
       "    <tr>\n",
       "      <th>1</th>\n",
       "      <td>0.97</td>\n",
       "      <td>183020</td>\n",
       "      <td>182899</td>\n",
       "      <td>0.999339</td>\n",
       "      <td>0.932469</td>\n",
       "      <td>0.928028</td>\n",
       "      <td>0.936654</td>\n",
       "    </tr>\n",
       "    <tr>\n",
       "      <th>2</th>\n",
       "      <td>1.93</td>\n",
       "      <td>169503</td>\n",
       "      <td>168594</td>\n",
       "      <td>0.994637</td>\n",
       "      <td>0.916567</td>\n",
       "      <td>0.910318</td>\n",
       "      <td>0.922420</td>\n",
       "    </tr>\n",
       "    <tr>\n",
       "      <th>3</th>\n",
       "      <td>2.92</td>\n",
       "      <td>113094</td>\n",
       "      <td>108953</td>\n",
       "      <td>0.963384</td>\n",
       "      <td>0.896660</td>\n",
       "      <td>0.887691</td>\n",
       "      <td>0.904815</td>\n",
       "    </tr>\n",
       "    <tr>\n",
       "      <th>4</th>\n",
       "      <td>3.93</td>\n",
       "      <td>73855</td>\n",
       "      <td>64740</td>\n",
       "      <td>0.876582</td>\n",
       "      <td>0.872125</td>\n",
       "      <td>0.859738</td>\n",
       "      <td>0.883629</td>\n",
       "    </tr>\n",
       "    <tr>\n",
       "      <th>5</th>\n",
       "      <td>4.94</td>\n",
       "      <td>53659</td>\n",
       "      <td>41106</td>\n",
       "      <td>0.766060</td>\n",
       "      <td>0.842781</td>\n",
       "      <td>0.826450</td>\n",
       "      <td>0.858545</td>\n",
       "    </tr>\n",
       "    <tr>\n",
       "      <th>6</th>\n",
       "      <td>5.94</td>\n",
       "      <td>42991</td>\n",
       "      <td>28205</td>\n",
       "      <td>0.656068</td>\n",
       "      <td>0.808560</td>\n",
       "      <td>0.786375</td>\n",
       "      <td>0.829515</td>\n",
       "    </tr>\n",
       "    <tr>\n",
       "      <th>7</th>\n",
       "      <td>6.95</td>\n",
       "      <td>37050</td>\n",
       "      <td>21334</td>\n",
       "      <td>0.575816</td>\n",
       "      <td>0.768522</td>\n",
       "      <td>0.740015</td>\n",
       "      <td>0.796034</td>\n",
       "    </tr>\n",
       "    <tr>\n",
       "      <th>8</th>\n",
       "      <td>7.95</td>\n",
       "      <td>33275</td>\n",
       "      <td>16615</td>\n",
       "      <td>0.499324</td>\n",
       "      <td>0.723488</td>\n",
       "      <td>0.686662</td>\n",
       "      <td>0.758019</td>\n",
       "    </tr>\n",
       "    <tr>\n",
       "      <th>9</th>\n",
       "      <td>8.95</td>\n",
       "      <td>30836</td>\n",
       "      <td>13503</td>\n",
       "      <td>0.437897</td>\n",
       "      <td>0.673468</td>\n",
       "      <td>0.629110</td>\n",
       "      <td>0.716375</td>\n",
       "    </tr>\n",
       "  </tbody>\n",
       "</table>\n",
       "</div>"
      ],
      "text/plain": [
       "      x       n       y       pct   pct_fit        lo        hi\n",
       "0  0.28   45198   45183  0.999668  0.942109  0.938350  0.945455\n",
       "1  0.97  183020  182899  0.999339  0.932469  0.928028  0.936654\n",
       "2  1.93  169503  168594  0.994637  0.916567  0.910318  0.922420\n",
       "3  2.92  113094  108953  0.963384  0.896660  0.887691  0.904815\n",
       "4  3.93   73855   64740  0.876582  0.872125  0.859738  0.883629\n",
       "5  4.94   53659   41106  0.766060  0.842781  0.826450  0.858545\n",
       "6  5.94   42991   28205  0.656068  0.808560  0.786375  0.829515\n",
       "7  6.95   37050   21334  0.575816  0.768522  0.740015  0.796034\n",
       "8  7.95   33275   16615  0.499324  0.723488  0.686662  0.758019\n",
       "9  8.95   30836   13503  0.437897  0.673468  0.629110  0.716375"
      ]
     },
     "execution_count": 48,
     "metadata": {},
     "output_type": "execute_result"
    }
   ],
   "source": [
    "data.head(10)"
   ]
  },
  {
   "cell_type": "code",
   "execution_count": 49,
   "metadata": {},
   "outputs": [
    {
     "data": {
      "text/plain": [
       "<matplotlib.collections.PolyCollection at 0x7f01071eafd0>"
      ]
     },
     "execution_count": 49,
     "metadata": {},
     "output_type": "execute_result"
    },
    {
     "data": {
      "image/png": "[encoded data removed]",
      "text/plain": [
       "<Figure size 432x288 with 1 Axes>"
      ]
     },
     "metadata": {},
     "output_type": "display_data"
    }
   ],
   "source": [
    "fig, ax = plt.subplots()\n",
    "ax.plot(data['x'],data['pct'], 'b.')\n",
    "ax.fill_between(data['x'], data['lo'], data['hi'])"
   ]
  },
  {
   "cell_type": "code",
   "execution_count": null,
   "metadata": {},
   "outputs": [],
   "source": []
  }
 ],
 "metadata": {
  "kernelspec": {
   "display_name": "pyro",
   "language": "python",
   "name": "pyro"
  },
  "language_info": {
   "codemirror_mode": {
    "name": "ipython",
    "version": 3
   },
   "file_extension": ".py",
   "mimetype": "text/x-python",
   "name": "python",
   "nbconvert_exporter": "python",
   "pygments_lexer": "ipython3",
   "version": "3.7.0"
  }
 },
 "nbformat": 4,
 "nbformat_minor": 4
}
